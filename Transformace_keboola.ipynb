{
 "cells": [
  {
   "attachments": {},
   "cell_type": "markdown",
   "metadata": {},
   "source": [
    "# 4camping_workspace_ keboola"
   ]
  },
  {
   "attachments": {},
   "cell_type": "markdown",
   "metadata": {},
   "source": [
    "Tady sepišeme krok za krokem, jaké transformace jsme udělali v keboolu abysme ziskali naše končné data k vizualizace\n",
    "- prvni pokusi před Hackatonem: \n",
    "    -  vybirat a stahovat tabulky z firemniho database\n",
    "    - vytvorit datový model\n",
    "    - nahrat data do keboolo\n",
    "- Hackaton:\n",
    "    - spojime zbytecne zmatujici a komplikovane tabulky, hodne veci jeste nevime jak fnguje v keboolo co taky neurychlí prace\n",
    "    - nejakou tabulku jsme potom dali do Tablea, tady taky jsme meli problem, jak updatovat, pokud nejaky data nasledne menime ve keboolo\n",
    "    - zkusili jsme pridat kraj, okres, psc prodejny, pomoci regex udelat slopuce kde jsou barvy\n",
    "\n",
    "Vysledek Hackatonu, že začnem znova spolu vytvořit naše zakladnou tabulku, v tomhle workbooku budem sepsat kroky\n"
   ]
  },
  {
   "attachments": {},
   "cell_type": "markdown",
   "metadata": {},
   "source": [
    "Extra info:\n",
    "- pojmenovano tabulky ve storage (CAPS_LOCK)\n",
    "- tabulky z DB nahrany pres STORAGE\n",
    "- tabulky ohledne county, region nahrany pres COMPONENT/GOOGLE DRIVE \n",
    "\n",
    "- vice o vztazich v datovém modelu\n",
    "https://lucid.app/lucidchart/5b471e84-a440-4587-a1cf-19c93dbd04c6/edit?invitationId=inv_0c0c0ddc-16c1-424f-ae3e-6f41d12bd1f1&page=wbRCCwA8fE17#"
   ]
  },
  {
   "attachments": {},
   "cell_type": "markdown",
   "metadata": {},
   "source": [
    "#### 1_4CAMPING_ORDERS_PRODUCT \n",
    "\n",
    "VNORENY SELECT UNION PRODUKTU, JOINOVANI S CAT, PROD, ORDERS, SHIPPINGMETHODS\n",
    "\n",
    "spojit ordes_product nasledne spojime jeste do toho tabulky orders, products, shipping methods a categoris\n",
    "- Vystupní tabulka bude : ORDER_PRODUCTS_0"
   ]
  },
  {
   "cell_type": "code",
   "execution_count": null,
   "metadata": {
    "vscode": {
     "languageId": "sql"
    }
   },
   "outputs": [],
   "source": [
    "CREATE OR REPLACE TABLE ORDER_PRODUCTS_0 AS ( \n",
    "--# select na spojenné tabulky, orders_product, orders, product, chategories, shippinh methods\n",
    "SELECT \n",
    "    OP0.*\n",
    "    ,O.\"city\" AS CITY\n",
    "    ,O.\"date\" AS DATES\n",
    "    ,O.\"shipping_methods_id\" \n",
    "    ,O.\"number\" AS ORDER_NUMBER --CISLO OBJEDNÁVKY\n",
    "    ,P.\"name_cs\" AS PRODUCT_NAME\n",
    "    ,C.\"name_cs\" AS SUBCATEGORIES_NAME\n",
    "    ,SM.\"name_cs\" AS SHIPPING_METHOD\n",
    "    ,SPLIT(C.\"name_full_cs\", '||')[0] AS CATEGORIES --##vytvorime categories pomoci splitem z sloupcu z tabulky category\n",
    "FROM \n",
    "--## 3 orders_product tabulky spojime dohromady\n",
    "(SELECT\n",
    "   OP1.\"id\" AS ID\n",
    "   ,OP1.\"date_inserted\"\n",
    "   ,OP1.\"orders_id\" AS ORDERS_ID\n",
    "   ,OP1.\"products_id\" AS PRODUCTS_ID\n",
    "   ,OP1.\"variant_name_cs\" AS VARIANT_NAME_CS\n",
    "   ,OP1.\"quantity\" AS QUANTITY\n",
    "   ,OP1.\"price_czk\" AS PRICE_CZK\n",
    "   ,OP1.\"weight\" AS WEIGHT\n",
    "FROM ORDER_PRODUCT_1 AS OP1\n",
    "\n",
    "UNION ALL\n",
    "\n",
    "SELECT\n",
    "    OP2.\"id\"\n",
    "    ,OP2.\"date_inserted\"\n",
    "   ,OP2.\"orders_id\"\n",
    "   ,OP2.\"products_id\"\n",
    "   ,OP2.\"variant_name_cs\"\n",
    "   ,OP2.\"quantity\"\n",
    "   ,OP2.\"price_czk\"\n",
    "   ,OP2.\"weight\"\n",
    "FROM ORDER_PRODUCT_2 as OP2\n",
    "\n",
    "UNION ALL\n",
    "\n",
    "SELECT\n",
    "    OP3.\"id\"\n",
    "    ,OP3.\"date_inserted\"\n",
    "   ,OP3.\"orders_id\"\n",
    "   ,OP3.\"products_id\"\n",
    "   ,OP3.\"variant_name_cs\"\n",
    "   ,OP3.\"quantity\"\n",
    "   ,OP3.\"price_czk\"\n",
    "   ,OP3.\"weight\"\n",
    "FROM ORDER_PRODUCT_3 as OP3)  AS OP0\n",
    "\n",
    "INNER JOIN ORDERS AS O --INNER JOIN JE PROTO, ZE TABULKY ORDERS A PRODUCT_ORDERS BYLY STAZENY V RUZNOU DOBU A NE VSECHNY PO JSOU V O\n",
    "ON OP0.ORDERS_ID = O.\"id\"\n",
    "LEFT JOIN PRODUCTS AS P\n",
    "ON OP0.PRODUCTS_ID = P.\"id\"\n",
    "LEFT JOIN CATEGORIES AS C\n",
    "ON C.\"id\" = P.\"categories_id\"\n",
    "LEFT JOIN SHIPPING_METHODS AS SM\n",
    "ON SM.\"id\" = O.\"shipping_methods_id\"\n",
    ")"
   ]
  },
  {
   "attachments": {},
   "cell_type": "markdown",
   "metadata": {},
   "source": [
    "#### 2_4CAMPING_ORDERS_PRODUCT_ADDING_COLUMNS\n",
    "PRIDAVANI POTREBNYCH SLOUPCU DO TABULKY ORDER_PRODUCTS0 (DATE, ZIP, COUNTY, REGION, COLOR)\n",
    "- 3 bloky"
   ]
  },
  {
   "attachments": {},
   "cell_type": "markdown",
   "metadata": {},
   "source": [
    "1. Blok:\n",
    "- OBOHACENI TAB ORDER_PRODUCT_0 - DATUM"
   ]
  },
  {
   "cell_type": "code",
   "execution_count": null,
   "metadata": {
    "vscode": {
     "languageId": "sql"
    }
   },
   "outputs": [],
   "source": [
    "--upravim tabulku ORDER_PRODUCTS_0 - pridam  nove sloupce: pro praci s datumem\n",
    "ALTER TABLE ORDER_PRODUCTS_0\n",
    "ADD COLUMN DAY_NAME VARCHAR(20), DAY_NAME_CS VARCHAR(20), IDAY INTEGER, IYEAR INTEGER, IMONTH INTEGER, IDATE DATE;\n",
    "\n",
    "--do upravene tabulky orders naplnim prislusne sloupecky\n",
    "UPDATE ORDER_PRODUCTS_0\n",
    "SET IDATE = DATE(TO_TIMESTAMP(DATES, 'YYYY-MM-DD HH24:MI:SS'));\n",
    "\n",
    "UPDATE ORDER_PRODUCTS_0\n",
    "SET IYEAR = DATE_PART('YEAR', IDATE),\n",
    "    IMONTH = DATE_PART('MONTH', IDATE),\n",
    "    IDAY = DATE_PART('DAY', IDATE);\n",
    "\n",
    "UPDATE ORDER_PRODUCTS_0\n",
    "SET DAY_NAME = dayname(IDATE),\n",
    "    DAY_NAME_CS =\n",
    "    CASE\n",
    "        WHEN DAY_NAME = 'Sun' THEN 'Neděle'\n",
    "        WHEN DAY_NAME = 'Mon' THEN 'Pondělí'\n",
    "        WHEN DAY_NAME = 'Tue' THEN 'Úterý'\n",
    "        WHEN DAY_NAME = 'Wed' THEN 'Středa'\n",
    "        WHEN DAY_NAME = 'Thu' THEN 'Čtvrtek'\n",
    "        WHEN DAY_NAME = 'Fri' THEN 'Pátek'\n",
    "        WHEN DAY_NAME = 'Sat' THEN 'Sobota'\n",
    "            END;"
   ]
  },
  {
   "attachments": {},
   "cell_type": "markdown",
   "metadata": {},
   "source": [
    "2. Blok:\n",
    "- OBOHACENI TAB ORDER_PRODUCT_0 - BARVY, VELIKOST (!!!! DODELAT), VALUE, UPRAVA DAT.TYPU U PRICE A QNTY"
   ]
  },
  {
   "cell_type": "code",
   "execution_count": null,
   "metadata": {
    "vscode": {
     "languageId": "sql"
    }
   },
   "outputs": [],
   "source": [
    "-- PRIDANI SLOUPCE PRO BARVU - ZISKANI BARVY REGEXEM Z VARIANT_NAME_CS - STEJNYM ZPUSBEM TREBA ZISKAT I VELIKOST - POZOR BARVY TREBA DOLADIT\n",
    "ALTER TABLE ORDER_PRODUCTS_0 \n",
    "ADD COLUMN PRODUCT_COLOR VARCHAR(50);\n",
    "\n",
    "UPDATE ORDER_PRODUCTS_0\n",
    "SET PRODUCT_COLOR = TRIM(REPLACE(regexp_substr(VARIANT_NAME_CS, 'Barva:([^\\/]*)'),'Barva: ', ''));\n",
    "\n",
    "--DO BUDOUCNA PRIDAME SLOUPEC NA VELIKOST + BARVY JE POTREBA DOLADIT (VIZ. \n",
    "--SELECT PRODUCT_COLOR, COUNT(PRODUCT_COLOR) AS VYSKYT\n",
    "--FROM ORDER_PRODUCTS_0\n",
    "--WHERE IYEAR = '2022'\n",
    "--GROUP BY PRODUCT_COLOR\n",
    "--ORDER BY VYSKYT DESC)\n",
    "\n",
    "------------------------------------\n",
    "--MAME PROBLEM PRAZDNYCH HODNOT VE SLOUPCICH, SE KTERYMI CHCEME POCITAT - ZJISTILY JSME, ZE SE JEDNA O CHYBEJICI HODNOTU U PRODUKTU SLUNECNI BRYLE. DOPOCITALY JSME PRUMERNOU CENU (223), ABYCHOM JI DO PRAZDNYCH HODNOT NAHRADILY.\n",
    "--SELECT PRODUCTS_ID, AVG(PRICE_CZK) AS PRUMER\n",
    "--FROM ORDER_PRODUCTS_0\n",
    "--WHERE PRODUCTS_ID = '18409' AND PRICE_CZK <> ''\n",
    "--GROUP BY PRODUCTS_ID\n",
    "\n",
    "UPDATE ORDER_PRODUCTS_0\n",
    "SET PRICE_CZK = '223'\n",
    "WHERE PRICE_CZK = '';\n",
    "\n",
    "ALTER TABLE ORDER_PRODUCTS_0 \n",
    "ADD COLUMN VALUE_ITEM_ORDER INTEGER;\n",
    "\n",
    "UPDATE ORDER_PRODUCTS_0\n",
    "SET VALUE_ITEM_ORDER = CAST(PRICE_CZK AS INTEGER) * CAST(QUANTITY AS INTEGER);"
   ]
  },
  {
   "attachments": {},
   "cell_type": "markdown",
   "metadata": {},
   "source": [
    "3. Blok:\n",
    "- OBOHACENI TAB ORDER_PRODUCTS_0 O SLOUPEC CARRIER_NAME"
   ]
  },
  {
   "cell_type": "code",
   "execution_count": null,
   "metadata": {
    "vscode": {
     "languageId": "sql"
    }
   },
   "outputs": [],
   "source": [
    "ALTER TABLE ORDER_PRODUCTS_0\n",
    "ADD COLUMN CARRIER_NAME VARCHAR (20);\n",
    "\n",
    "UPDATE ORDER_PRODUCTS_0\n",
    "SET CARRIER_NAME = \n",
    "  CASE \n",
    "    WHEN shipping_method LIKE '%GLS%' THEN 'GLS' \n",
    "    WHEN shipping_method  LIKE '%DPD%' THEN 'DPD' \n",
    "    WHEN shipping_method  LIKE '%GEIS%' THEN 'GEIS' \n",
    "    WHEN shipping_method  LIKE '%PPL%' THEN 'PPL' \n",
    "    WHEN shipping_method  LIKE '%Balíkovna%' THEN 'BALIKOVNA' \n",
    "    WHEN shipping_method  LIKE '%iftago%' THEN 'LIFTAGO' \n",
    "    WHEN shipping_method  LIKE '%Česká%' THEN 'ČESKÁ POŠTA' \n",
    "    WHEN shipping_method  LIKE '%loženka%' THEN 'ULOŽENKA' \n",
    "    WHEN shipping_method  LIKE '%Dodo%' THEN 'DODO' \n",
    "    WHEN shipping_method  LIKE '%Packeta%' THEN 'PACKETA' \n",
    "    WHEN shipping_method  LIKE '%silkovna%' THEN 'PACKETA' \n",
    "    WHEN shipping_method  LIKE '%DHL%' THEN 'DHL'\n",
    "    WHEN shipping_method  LIKE '%SPS%' THEN 'SPS - SK'\n",
    "    WHEN shipping_method  LIKE '%venská po%' THEN 'SK pošta'\n",
    "    WHEN shipping_method  LIKE '%test%' THEN 'test'\n",
    "    ELSE 'OSOBNÍ ODBĚR' \n",
    "  END;"
   ]
  },
  {
   "attachments": {},
   "cell_type": "markdown",
   "metadata": {},
   "source": [
    "#### 3_4CAMPING_ORDERS_PRODUCT_ADDING_ORIGIN\n",
    "PRIDANI SLOUPCU PUVODU OBJEDNAVKY - OBEC, OKRES, KRAJ - I U OSOBNICH ODBERU UDAJE PRODEJNY"
   ]
  }
 ],
 "metadata": {
  "language_info": {
   "name": "python"
  },
  "orig_nbformat": 4
 },
 "nbformat": 4,
 "nbformat_minor": 2
}
