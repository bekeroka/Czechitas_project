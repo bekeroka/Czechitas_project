{
 "cells": [
  {
   "attachments": {},
   "cell_type": "markdown",
   "metadata": {},
   "source": [
    "                                                                                       4camping_workspace\n",
    " 1 - pojmenovano tabulky ve storeg (CAPS_LOCK)\n",
    "- tabulky z DB nahrany pres STORAGE\n",
    "- tabulky ohledne county, region nahrany pres COMONENT/GOOGLE DRIVE\n",
    " \n",
    "info: \n",
    "okres - county\n",
    "kraj - region\n",
    "tabulk  \n",
    "- COUNTY_CZ : \n",
    "- ZIP_CODE_CITY: \n",
    "- ZIP_CODE_STORES: \n",
    "\n",
    "- vice o vztazich v datovém modelu\n",
    "https://lucid.app/lucidchart/5b471e84-a440-4587-a1cf-19c93dbd04c6/edit?invitationId=inv_0c0c0ddc-16c1-424f-ae3e-6f41d12bd1f1&page=wbRCCwA8fE17#\n",
    "\n",
    " \n",
    " "
   ]
  },
  {
   "attachments": {},
   "cell_type": "markdown",
   "metadata": {},
   "source": [
    "#### 1_4CAMPING_ORDERS_PRODUCT - Privni transformace \n",
    "- VNORENY SELECT UNION PRODUKTU, JOINOVANI S CAT, PROD, ORDERS, SHIPPINGMETHODS\n",
    "- spojit ordes_product nasledne spojime jeste do toho tabulky orders, products, shipping methods a categoris\n",
    "- Vystupní tabulka bude : ORDER_PRODUCTS_0"
   ]
  },
  {
   "cell_type": "code",
   "execution_count": null,
   "metadata": {
    "vscode": {
     "languageId": "sql"
    }
   },
   "outputs": [],
   "source": [
    "CREATE OR REPLACE TABLE ORDER_PRODUCTS_0 AS ( \n",
    "--# select na spojenné tabulky, orders_product, orders, product, chategories, shippinh methods\n",
    "SELECT \n",
    "    OP0.*\n",
    "    ,O.\"city\" AS CITY\n",
    "    ,O.\"date\" AS DATES\n",
    "    ,O.\"shipping_methods_id\" \n",
    "    ,O.\"number\" AS ORDER_NUMBER --CISLO OBJEDNÁVKY\n",
    "    ,P.\"name_cs\" AS PRODUCT_NAME\n",
    "    ,C.\"name_cs\" AS SUBCATEGORIES_NAME\n",
    "    ,SM.\"name_cs\" AS SHIPPING_METHOD\n",
    "    ,SPLIT(C.\"name_full_cs\", '||')[0] AS CATEGORIES --##vytvorime categories pomoci splitem z sloupcu z tabulky category\n",
    "   \n",
    "FROM \n",
    "--## 3 orders_product tabulky spojime dohromady\n",
    "(SELECT\n",
    "   OP1.\"id\" AS ID\n",
    "   ,OP1.\"date_inserted\"\n",
    "   ,OP1.\"orders_id\" AS ORDERS_ID\n",
    "   ,OP1.\"products_id\" AS PRODUCTS_ID\n",
    "   ,OP1.\"variant_name_cs\" AS VARIANT_NAME_CS\n",
    "   ,OP1.\"quantity\" AS QUANTITY\n",
    "   ,OP1.\"price_czk\" AS PRICE_CZK\n",
    "   ,OP1.\"weight\" AS WEIGHT\n",
    "FROM ORDER_PRODUCT_1 AS OP1\n",
    "\n",
    "UNION ALL\n",
    "\n",
    "SELECT\n",
    "    OP2.\"id\"\n",
    "    ,OP2.\"date_inserted\"\n",
    "   ,OP2.\"orders_id\"\n",
    "   ,OP2.\"products_id\"\n",
    "   ,OP2.\"variant_name_cs\"\n",
    "   ,OP2.\"quantity\"\n",
    "   ,OP2.\"price_czk\"\n",
    "   ,OP2.\"weight\"\n",
    "FROM ORDER_PRODUCT_2 as OP2\n",
    "\n",
    "UNION ALL\n",
    "\n",
    "SELECT\n",
    "    OP3.\"id\"\n",
    "    ,OP3.\"date_inserted\"\n",
    "   ,OP3.\"orders_id\"\n",
    "   ,OP3.\"products_id\"\n",
    "   ,OP3.\"variant_name_cs\"\n",
    "   ,OP3.\"quantity\"\n",
    "   ,OP3.\"price_czk\"\n",
    "   ,OP3.\"weight\"\n",
    "FROM ORDER_PRODUCT_3 as OP3)  AS OP0\n",
    "\n",
    "INNER JOIN ORDERS AS O --INNER JOIN JE PROTO, ZE TABULKY ORDERS A PRODUCT_ORDERS BYLY STAZENY V RUZNOU DOBU A NE VSECHNY PO JSOU V O\n",
    "ON OP0.ORDERS_ID = O.\"id\"\n",
    "LEFT JOIN PRODUCTS AS P\n",
    "ON OP0.PRODUCTS_ID = P.\"id\"\n",
    "LEFT JOIN CATEGORIES AS C\n",
    "ON C.\"id\" = P.\"categories_id\"\n",
    "LEFT JOIN SHIPPING_METHODS AS SM\n",
    "ON SM.\"id\" = O.\"shipping_methods_id\"\n",
    ")"
   ]
  },
  {
   "attachments": {},
   "cell_type": "markdown",
   "metadata": {},
   "source": [
    "#### 1_4CAMPING_ORDERS_PRODUCT - Druhá transformace\n",
    "- PRIDAVANI POTREBNYCH SLOUPCU DO TABULKY ORDER_PRODUCTS0 (DATE, ZIP, COUNTY, REGION, COLOR)"
   ]
  },
  {
   "attachments": {},
   "cell_type": "markdown",
   "metadata": {},
   "source": [
    "PRACE SE SLOUPCE DATE - VYTVORENI NOVYCH SLOUPCU"
   ]
  },
  {
   "cell_type": "code",
   "execution_count": null,
   "metadata": {
    "vscode": {
     "languageId": "sql"
    }
   },
   "outputs": [],
   "source": [
    "--upravim tabulku ORDER_PRODUCTS_0 - pridam  nove sloupce: pro praci s datumem\n",
    "ALTER TABLE ORDER_PRODUCTS_0\n",
    "ADD COLUMN DAY_NAME VARCHAR(20), DAY_NAME_CS VARCHAR(20), IDAY INTEGER, IYEAR INTEGER, IMONTH INTEGER, IDATE DATE;\n",
    "\n",
    "\n",
    "--do upravene tabulky orders naplnim prislusne sloupecky\n",
    "UPDATE ORDER_PRODUCTS_0\n",
    "SET DAY_NAME = dayname(DATES),\n",
    "    DAY_NAME_CS =\n",
    "    CASE\n",
    "        WHEN DAY_NAME = 'Sun' THEN 'Neděle'\n",
    "        WHEN DAY_NAME = 'Mon' THEN 'Pondělí'\n",
    "        WHEN DAY_NAME = 'Tue' THEN 'Úterý'\n",
    "        WHEN DAY_NAME = 'Wed' THEN 'Středa'\n",
    "        WHEN DAY_NAME = 'Thu' THEN 'Čtvrtek'\n",
    "        WHEN DAY_NAME = 'Fri' THEN 'Pátek'\n",
    "        WHEN DAY_NAME = 'Sat' THEN 'Sobota'\n",
    "            END,\n",
    "    IDATE = DATE(TO_TIMESTAMP(DATES, 'YYYY-MM-DD HH24:MI:SS')),\n",
    "    IYEAR = DATE_PART('YEAR', IDATE),\n",
    "    IMONTH = DATE_PART('MONTH', IDATE),\n",
    "    IDAY = DATE_PART('DAY', IDATE);"
   ]
  },
  {
   "attachments": {},
   "cell_type": "markdown",
   "metadata": {},
   "source": [
    "#### OBOHACENI TAB ORDER_PRODUCT_0 - BARVY, VELIKOST (!!!! DODELAT), VALUE, UPRAVA FORMATU"
   ]
  },
  {
   "attachments": {},
   "cell_type": "markdown",
   "metadata": {},
   "source": [
    "- MAME PROBLEM PRAZDNYCH HODNOT VE SLOUPCICH, SE KTERYMI CHCEME POCITAT - ZJISTILY JSME, ZE SE JEDNA O CHYBEJICI HODNOTU U PRODUKTU SLUNECNI BRYLE. DOPOCITALY JSME PRUMERNOU CENU A \n",
    "223 czk\n"
   ]
  },
  {
   "cell_type": "code",
   "execution_count": null,
   "metadata": {
    "vscode": {
     "languageId": "sql"
    }
   },
   "outputs": [],
   "source": [
    "SELECT PRODUCTS_ID, AVG(PRICE_CZK) AS PRUMER\n",
    "FROM ORDER_PRODUCTS_0\n",
    "WHERE PRODUCTS_ID = '18409' AND PRICE_CZK <> ''\n",
    "GROUP BY PRODUCTS_ID"
   ]
  },
  {
   "cell_type": "markdown",
   "metadata": {},
   "source": []
  },
  {
   "cell_type": "code",
   "execution_count": null,
   "metadata": {
    "vscode": {
     "languageId": "sql"
    }
   },
   "outputs": [],
   "source": [
    "--### OLD VERSION\n",
    "--upravim tabulku ORDER_PRODUCT_CD - pridam sloupecek DAY_NAME\n",
    "ALTER TABLE ORDER_PRODUCT_CD\n",
    "ADD COLUMN DAY_NAME VARCHAR(20);\n",
    "\n",
    "--upravim tabulku ORDER_PRODUCT_CD - pridam sloupecek DAY_NAME_CS\n",
    "ALTER TABLE ORDER_PRODUCT_CD\n",
    "ADD COLUMN DAY_NAME_CS VARCHAR(20);\n",
    "\n",
    "--upravim tabulku ORDER_PRODUCT_CD - pridam sloupecek IDAY\n",
    "ALTER TABLE ORDER_PRODUCT_CD \n",
    "ADD COLUMN IDAY INTEGER;\n",
    "\n",
    "--upravim tabulku ORDER_PRODUCT_CD - pridam sloupecek IYEAR\n",
    "ALTER TABLE ORDER_PRODUCT_CD \n",
    "ADD COLUMN IYEAR INTEGER;\n",
    "\n",
    "--upravim tabulku ORDER_PRODUCT_CD - pridam sloupecek IMONTH\n",
    "ALTER TABLE ORDER_PRODUCT_CD \n",
    "ADD COLUMN IMONTH INTEGER;\n",
    "\n",
    "--upravim tabulku ORDER_PRODUCT_CD - pridam sloupecek IMONTH\n",
    "ALTER TABLE ORDER_PRODUCT_CD \n",
    "ADD COLUMN IDATE DATE;\n",
    "\n",
    "--do upravene tabulky orders naplnim sloupecek day_name dle sloupecku \"date\"\n",
    "UPDATE ORDER_PRODUCT_CD\n",
    "SET DAY_NAME = dayname(\"date\");\n",
    "\n",
    "--do upravene tabulky orders naplnim sloupecek day_name_cs dny v tydnu v cestine\n",
    "UPDATE ORDER_PRODUCT_CD\n",
    "SET DAY_NAME_CS =\n",
    "    CASE\n",
    "        WHEN DAY_NAME = 'Sun' THEN 'Neděle'\n",
    "        WHEN DAY_NAME = 'Mon' THEN 'Pondělí'\n",
    "        WHEN DAY_NAME = 'Tue' THEN 'Úterý'\n",
    "        WHEN DAY_NAME = 'Wed' THEN 'Středa'\n",
    "        WHEN DAY_NAME = 'Thu' THEN 'Čtvrtek'\n",
    "        WHEN DAY_NAME = 'Fri' THEN 'Pátek'\n",
    "        WHEN DAY_NAME = 'Sat' THEN 'Sobota'\n",
    "            END;\n",
    "\n",
    "--PREDELAM VARCHAR DATUM S TIMESTAMP NA TIMESTAMP, A PAK NA DATE YYYY-MM-DD\n",
    "UPDATE ORDER_PRODUCT_CD\n",
    "SET IDATE = DATE(TO_TIMESTAMP(\"date\", 'YYYY-MM-DD HH24:MI:SS'));\n",
    "\n",
    "--PRAZDNE SLOUPCE IYEAR, IMONTH A IDAY NAPLNIM PRISLUSNOU INFORMACI ZE SLOUPECKU TIMESTAMP_DATE\n",
    "UPDATE ORDER_PRODUCT_CD\n",
    "SET \n",
    "    IYEAR = DATE_PART('YEAR', IDATE),\n",
    "    IMONTH = DATE_PART('MONTH', IDATE),\n",
    "    IDAY = DATE_PART('DAY', IDATE);"
   ]
  },
  {
   "attachments": {},
   "cell_type": "markdown",
   "metadata": {},
   "source": [
    "potom jsem joinovala tabulkou co udelala Anna, a pripjoila jsem tabilky:\n",
    "orders --> pokud v tabulce nehame cislo objednavky (number), a je nejaky nejastnost rychle muzu kontrolovat\n",
    "products --> je potreba kvuli kategoriam\n",
    "categories\n",
    "shipping methods"
   ]
  },
  {
   "cell_type": "code",
   "execution_count": null,
   "metadata": {
    "vscode": {
     "languageId": "sql"
    }
   },
   "outputs": [],
   "source": [
    "SELECT\n",
    " opl.\"id\" orders_product_id\n",
    ",SPLIT(c.\"name_full_cs\", '||')[0] AS nadkategory  --# ze slupce fullname, se da s tim udelat nadkategorie\n",
    ",cd.\"date\" \n",
    ",cd.day_name\n",
    ",cd.day_name_cs\n",
    ",cd.iday\n",
    ",cd.iyear\n",
    ",cd.imonth\n",
    ",cd.idate\n",
    ",o.\"number\" cislo_objednavky\n",
    ",opl.\"orders_id\" orders_id\n",
    ",opl.\"products_id\" products_id\n",
    ",opl.\"variant_name_cs\" product_variant_name\n",
    ",opl.\"quantity\" pocet_produktu\n",
    ",opl.\"price_czk\"\n",
    ",opl.\"weight\"\n",
    ",p.\"name_cs\" product_name\n",
    ",c.\"name_cs\" categories_name\n",
    ",cd.\"city\"\n",
    ",sm.\"name_cs\" shipping_method\n",
    "FROM orders_product_l AS opl\n",
    "LEFT JOIN \"products\" AS p ON opl.\"products_id\" = p.\"id\"\n",
    "LEFT JOIN \"categories\" AS c ON  c.\"id\" = p.\"categories_id\"\n",
    "LEFT JOIN order_product_cd AS cd on cd.id_order_product = opl.\"id\"\n",
    "LEFT JOIN \"orders\" AS o ON o.\"id\" = opl.\"orders_id\"\n",
    "LEFT JOIN \"shipping_metods\" AS sm ON sm.\"id\" = o.\"shipping_methods_id\""
   ]
  },
  {
   "attachments": {},
   "cell_type": "markdown",
   "metadata": {},
   "source": [
    "A pak ja jsem k tomu nejak pridala dopravce , kod je ok, ale musime pak zakomponovat lip"
   ]
  },
  {
   "cell_type": "code",
   "execution_count": null,
   "metadata": {
    "vscode": {
     "languageId": "sql"
    }
   },
   "outputs": [],
   "source": [
    "CREATE OR REPLACE TABLE FORCAMPING_ORDERS_2 AS\n",
    "SELECT *, \n",
    "  CASE \n",
    "    WHEN shipping_method LIKE '%GLS%' THEN 'GLS' \n",
    "    WHEN shipping_method  LIKE '%DPD%' THEN 'DPD' \n",
    "    WHEN shipping_method  LIKE '%GEIS%' THEN 'GEIS' \n",
    "    WHEN shipping_method  LIKE '%PPL%' THEN 'PPL' \n",
    "    WHEN shipping_method  LIKE '%Balíkovna%' THEN 'BALIKOVNA' \n",
    "    WHEN shipping_method  LIKE '%iftago%' THEN 'LIFTAGO' \n",
    "    WHEN shipping_method  LIKE '%Česká%' THEN 'ČESKÁ POŠTA' \n",
    "    WHEN shipping_method  LIKE '%loženka%' THEN 'ULOŽENKA' \n",
    "    WHEN shipping_method  LIKE '%Dodo%' THEN 'DODO' \n",
    "    WHEN shipping_method  LIKE '%Packeta%' THEN 'PACKETA' \n",
    "    WHEN shipping_method  LIKE '%silkovna%' THEN 'PACKETA' \n",
    "    WHEN shipping_method  LIKE '%DHL%' THEN 'DHL'\n",
    "    WHEN shipping_method  LIKE '%SPS%' THEN 'SPS - SK'\n",
    "    WHEN shipping_method  LIKE '%venská po%' THEN 'SK pošta'\n",
    "    WHEN shipping_method  LIKE '%test%' THEN 'test'\n",
    "    ELSE 'OSOBNÍ ODBĚR' \n",
    "  END AS dopravce\n",
    "FROM  FORCAMPING_ORDERS_2"
   ]
  },
  {
   "attachments": {},
   "cell_type": "markdown",
   "metadata": {},
   "source": [
    "Tady nejak jsem snazila odstranit ten psatny datum, ktreý nam zlobil"
   ]
  },
  {
   "cell_type": "code",
   "execution_count": null,
   "metadata": {
    "vscode": {
     "languageId": "sql"
    }
   },
   "outputs": [],
   "source": [
    "CREATE OR REPLACE TABLE FORCAMPING_ORDERS_FINAL_ALL AS\n",
    "\n",
    "SELECT \n",
    " orders_product_id\n",
    ",cislo_objednavky\n",
    ",orders_id\n",
    ",products_id\n",
    ",product_variant_name\n",
    ",pocet_produktu\n",
    ",\"price_czk\"\n",
    ",\"weight\"\n",
    ",product_name\n",
    ",categories_name\n",
    ",shipping_method\n",
    ",day_name\n",
    ",day_name_cs\n",
    ",iday\n",
    ",iyear\n",
    ",imonth\n",
    ",idate\n",
    ",nadkategory\n",
    ",city_from_shipping\n",
    ",city_and_cfs\n",
    ",DOPRAVCE\n",
    "FROM FORCAMPING_ORDERS_FINAL"
   ]
  },
  {
   "attachments": {},
   "cell_type": "markdown",
   "metadata": {},
   "source": [
    "pridani balikobot + psc okres z CP pouze 2022"
   ]
  },
  {
   "cell_type": "code",
   "execution_count": null,
   "metadata": {
    "vscode": {
     "languageId": "sql"
    }
   },
   "outputs": [],
   "source": [
    "CREATE OR REPLACE TABLE FORCAMPING_ORDERS_2022_KOMPLET AS\n",
    "SELECT\n",
    "    fofa.*\n",
    "    ,\"rec_city\" AS REC_CITY\n",
    "    ,\"rec_zip\" AS REC_ZIP\n",
    "    ,po.PSC\n",
    "    ,po.NAZOKRESU\n",
    "    ,PO.NAZCOBCE\n",
    "    ,ok.\"Nazev_kraje\"\n",
    "FROM FORCAMPING_ORDERS_FINAL_ALL  AS fofa -- fofa je tabulka vsech orders\n",
    "LEFT JOIN \"fc_balikobot\" AS f  --FC_BALIKOBOT NEMA ORDERS_ID, KTERE BYLY OSOBNI ODBER NA PRODEJNE\n",
    "ON f.\"order_id\" = fofa.orders_id\n",
    "LEFT JOIN \"psc_okres\" as po\n",
    "ON po.PSC = f.\"rec_zip\"\n",
    "LEFT JOIN \"okres_kraj\" as ok\n",
    "ON OK.\"Nazev_okresu\" = po.NAZOKRESU\n",
    "WHERE \"rec_country\" = 'CZ' \n",
    "AND IYEAR = '2022'"
   ]
  },
  {
   "attachments": {},
   "cell_type": "markdown",
   "metadata": {},
   "source": [
    "A pak jeste mame regex"
   ]
  },
  {
   "cell_type": "code",
   "execution_count": null,
   "metadata": {
    "vscode": {
     "languageId": "sql"
    }
   },
   "outputs": [],
   "source": [
    "SELECT TRIM(REPLACE(regexp_substr(PRODUCT_VARIANT_NAME, 'Barva:([^\\/]*)'),'Barva: ', '')),\n",
    "PRODUCT_VARIANT_NAME,\n",
    "*\n",
    "FROM FORCAMPING_ORDERS_FINAL_ALL;\n",
    "LIMIT 100;"
   ]
  },
  {
   "attachments": {},
   "cell_type": "markdown",
   "metadata": {},
   "source": [
    "přetipovani sloupcu na INT a vynasobeni pocet_produktu s cenama\n",
    "(porodany dany polozek v objednavce * cena za jednoho polozku)"
   ]
  },
  {
   "cell_type": "code",
   "execution_count": null,
   "metadata": {
    "vscode": {
     "languageId": "sql"
    }
   },
   "outputs": [],
   "source": [
    "SELECT \n",
    " CAST (pocet_produktu AS INTEGER) as pocet_produktu_int\n",
    ", CAST (\"price_czk\" AS INTEGER) AS price_per_item\n",
    ", pocet_produktu_int * price_per_item as CELKOVA_CENA\n",
    "FROM FORCAMPING_ORDERS_FINAL_ALL\n",
    "Limit 10"
   ]
  }
 ],
 "metadata": {
  "language_info": {
   "name": "python"
  },
  "orig_nbformat": 4
 },
 "nbformat": 4,
 "nbformat_minor": 2
}
