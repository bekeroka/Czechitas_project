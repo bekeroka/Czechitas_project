{
 "cells": [
  {
   "cell_type": "code",
   "execution_count": null,
   "metadata": {
    "vscode": {
     "languageId": "sql"
    }
   },
   "outputs": [],
   "source": []
  },
  {
   "attachments": {},
   "cell_type": "markdown",
   "metadata": {},
   "source": [
    "zasilkovna tabulka:\n",
    "- zip\n",
    "- city\n",
    "- orders_id"
   ]
  },
  {
   "cell_type": "code",
   "execution_count": null,
   "metadata": {
    "vscode": {
     "languageId": "sql"
    }
   },
   "outputs": [],
   "source": [
    "CREATE TEMPORARY TABLE ZASILKOVNA_CZ AS\n",
    "select\n",
    "z.\"zip\"\n",
    ",z.\"city\"\n",
    ",zo.\"orders_id\"\n",
    "from \"sm_zasilkovna_branches\" as z\n",
    "Left Join \"sm_zasilkovna_orders\" as zo ON zo.\"branches_id\" = z.\"id\"\n",
    "where z.\"country\" = 'cz'\n",
    "\n",
    "CREATE TEMPORARY TABLE BALIKOVNA_CZ AS\n",
    "select\n",
    "b.\"zipcode\"\n",
    ",b.\"city\"\n",
    ",bo.\"orders_id\"\n",
    "from \"sm_balikovna_branches\" as b\n",
    "Left Join \"sm_balikovna_orders\" as bo ON bo.\"branches_id\" = b.\"id\"\n",
    "\n",
    "CREATE TEMPORARY TABLE DPD_CZ AS\n",
    "select\n",
    "dpd.\"postcode\" \n",
    ",dpd.\"city\"\n",
    ",dpdo.\"orders_id\"\n",
    "from \"sm_balikovna_branches\" as dpd\n",
    "Left Join \"sm_balikovna_orders\" as dpdo ON dpdo.\"branches_id\" = dpd.\"id\"\n",
    "\n",
    "CREATE TEMPORARY  TABLE GEIS_CZ AS\n",
    "select\n",
    "g.\"zipcode\"\n",
    ",g.\"city\"\n",
    ",go.\"orders_id\"\n",
    "from \"sm_geis_point_branches\" as g\n",
    "Left Join \"sm_geis_orders\" as go ON go.\"branches_id\" = g.\"id\"\n",
    "where g.\"country\" = 'CZ'\n",
    "\n",
    "CREATE TEMPORARY TABLE BALIKNP_CZ AS\n",
    "select  \n",
    "\"zipcode\"\n",
    ",city\n",
    ",\"orders_id\"\n",
    "from \"sm_balik_napostu\""
   ]
  },
  {
   "attachments": {},
   "cell_type": "markdown",
   "metadata": {},
   "source": [
    "spojim vsechno pomoci unionem a zaroven vytvorim tabulku transport"
   ]
  },
  {
   "cell_type": "code",
   "execution_count": null,
   "metadata": {
    "vscode": {
     "languageId": "sql"
    }
   },
   "outputs": [],
   "source": [
    "CREATE OR REPLACE TABLE TRANSPORTS AS\n",
    "select\n",
    "z.\"zip\" AS ZIP\n",
    ",z.\"city\" AS CITY_T\n",
    ",zo.\"orders_id\" AS T_ORDERS_ID\n",
    "from \"sm_zasilkovna_branches\" as z\n",
    "Left Join \"sm_zasilkovna_orders\" as zo ON zo.\"branches_id\" = z.\"id\"\n",
    "where z.\"country\" = 'cz'\n",
    "\n",
    "UNION ALL\n",
    "\n",
    "select\n",
    "b.\"zipcode\" AS ZIP\n",
    ",b.\"city\" AS CITY_T\n",
    ",bo.\"orders_id\" AS T_ORDERS_ID\n",
    "from \"sm_balikovna_branches\" AS b\n",
    "Left Join \"sm_balikovna_orders\" AS bo ON bo.\"branches_id\" = b.\"id\"\n",
    "\n",
    "UNION ALL\n",
    "\n",
    "select\n",
    "dpd.\"postcode\"  AS ZIP\n",
    ",dpd.\"city\" AS CITY_T\n",
    ",dpdo.\"orders_id\" AS T_ORDERS_ID\n",
    "from \"sm_dpd_parcel_shops_branches\" AS dpd\n",
    "Left Join \"sm_dpd_parcel_shop_orders\" AS dpdo ON dpdo.\"branches_id\" = dpd.\"id\"\n",
    "\n",
    "UNION ALL\n",
    "\n",
    "select\n",
    "g.\"zipcode\" AS ZIP\n",
    ",g.\"city\" AS CITY_T\n",
    ",go.\"orders_id\" AS T_ORDERS_ID\n",
    "from \"sm_geis_point_branches\" AS g\n",
    "Left Join \"sm_geis_orders\" AS go ON go.\"branches_id\" = g.\"id\"\n",
    "\n",
    "UNION ALL\n",
    "\n",
    "select   \n",
    "\"zipcode\" AS ZIP\n",
    ",city AS CITY_T\n",
    ",\"orders_id\" AS T_ORDERS_ID\n",
    "from \"sm_balik_napostu\"\n"
   ]
  },
  {
   "attachments": {},
   "cell_type": "markdown",
   "metadata": {},
   "source": [
    "Tabulka objednavky pro ZIP_CODES\n",
    "\n",
    "Spojim tabulku orders , zipcode stores, transports \n"
   ]
  },
  {
   "cell_type": "code",
   "execution_count": null,
   "metadata": {
    "vscode": {
     "languageId": "sql"
    }
   },
   "outputs": [],
   "source": [
    "CREATE OR REPLACE TABLE ORDERS_2 AS\n",
    "select \n",
    " O2.\"id\" AS ID\n",
    ",O2.\"number\" AS ORDER_NUMBER\n",
    ",O2.\"zipcode\" AS ZIP_FROM_ORDER\n",
    ",O2.\"city\" AS CITY_FROM_ORDER\n",
    ",O2.\"delivery_zipcode\" AS DELIVERY_ZIP_ORDER\n",
    ",O2.\"delivery_city\" AS DELIVERY_CITY_ORDER\n",
    ",ZCS.zip_code   -- bude nase hlavni sloupce na psc\n",
    ",T.ZIP AS ZIP_T\n",
    ",T.CITY_T AS CITY_T\n",
    ",O2.\"shipping_methods_name_cs\" AS SHIPPING_METHOD\n",
    ",O2.\"shipping_methods_id\"  AS SHIPPING_METHOD_ID\n",
    ",SPLIT (\"date\", '-')[0] AS IYEAR\n",
    "from orders_2 O2\n",
    "LEFT JOIN zip_code_stores AS ZCS ON ZCS.id_prodejny = O2.\"shipping_methods_id\"\n",
    "LEFT JOIN transports AS T ON T.t_orders_id = O2.\"id\"\n",
    "\n",
    "--pridame sloupec carrier_name\n",
    "\n",
    "ALTER TABLE ORDERS_2\n",
    "ADD COLUMN CARRIER_NAME VARCHAR (30);\n",
    "\n",
    "-- a doplnime sloupec\n",
    "\n",
    "UPDATE ORDERS_2\n",
    "SET CARRIER_NAME = \n",
    "  CASE \n",
    "    WHEN \"SHIPPING_METHOD\" LIKE '%GLS%' THEN 'GLS' \n",
    "    WHEN \"SHIPPING_METHOD\"  LIKE '%DPD%' THEN 'DPD' \n",
    "    WHEN \"SHIPPING_METHOD\"  LIKE '%GEIS%' THEN 'GEIS' \n",
    "    WHEN \"SHIPPING_METHOD\"  LIKE '%PPL%' THEN 'PPL' \n",
    "    WHEN \"SHIPPING_METHOD\"  LIKE '%Balíkovna%' THEN 'BALIKOVNA' \n",
    "    WHEN \"SHIPPING_METHOD\"  LIKE '%iftago%' THEN 'LIFTAGO' \n",
    "    WHEN \"SHIPPING_METHOD\"  LIKE '%Česká%' THEN 'ČESKÁ POŠTA' \n",
    "    WHEN \"SHIPPING_METHOD\"  LIKE '%loženka%' THEN 'ULOŽENKA' \n",
    "    WHEN \"SHIPPING_METHOD\"  LIKE '%odo%' THEN 'DODO' \n",
    "    WHEN \"SHIPPING_METHOD\"  LIKE '%Packeta%' THEN 'PACKETA' \n",
    "    WHEN \"SHIPPING_METHOD\"  LIKE '%silkovna%' THEN 'PACKETA' \n",
    "    WHEN \"SHIPPING_METHOD\"  LIKE '%DHL%' THEN 'DHL'\n",
    "    WHEN \"SHIPPING_METHOD\"  LIKE '%SPS%' THEN 'SPS - SK'\n",
    "    WHEN \"SHIPPING_METHOD\"  LIKE '%venská po%' THEN 'SK pošta'\n",
    "    WHEN \"SHIPPING_METHOD\"  LIKE '%test%' THEN 'test'\n",
    "    WHEN \"SHIPPING_METHOD\"  LIKE '%UPS%' THEN 'UPS'\n",
    "    WHEN \"SHIPPING_METHOD\"  LIKE '%Bratislava - Osobní odběr%' THEN 'Bratislava - Osobní odběr'\n",
    "    ELSE 'OSOBNÍ ODBĚR' \n",
    "  END;"
   ]
  },
  {
   "attachments": {},
   "cell_type": "markdown",
   "metadata": {},
   "source": [
    "a nasledne sloupec ZIp_CODE updatuju"
   ]
  },
  {
   "cell_type": "code",
   "execution_count": null,
   "metadata": {
    "vscode": {
     "languageId": "sql"
    }
   },
   "outputs": [],
   "source": [
    "--- updatuju zip_code from tabulky TRANSPORT\n",
    "\n",
    "UPDATE ORDERS_4\n",
    "SET zip_code = ZIP_T\n",
    "WHERE zip_code IS NULL ;\n",
    "\n",
    "UPDATE ORDERS_4\n",
    "SET zip_code = ZIP_T\n",
    "WHERE zip_code = '' ;\n",
    "\n",
    "-- updatuju zip_code from tabulky orders, ALE beru DELIVERY_ZIP\n",
    "\n",
    "UPDATE ORDERS_4\n",
    "SET zip_code = DELIVERY_ZIP_ORDER\n",
    "WHERE zip_code IS NULL ;\n",
    "\n",
    "UPDATE ORDERS_4\n",
    "SET zip_code = DELIVERY_ZIP_ORDER\n",
    "WHERE zip_code  = ''  ;\n",
    "\n",
    "-- u zbytku updatuju zip_code from tabulky orders, zip co zadavaji zakaznici\n",
    "\n",
    "UPDATE ORDERS_4\n",
    "SET zip_code = ZIP_FROM_ORDER\n",
    "WHERE zip_code = '' ;\n",
    "\n",
    "--- Bratislava osobni odber smazem - 134 zaznamu\n",
    "DELETE FROM ORDERS_4 \n",
    "WHERE SHIPPING_METHOD = 'Bratislava - Osobní odběr'\n",
    "--- zustalo pak 9 zaznamu bez zip_code\n",
    "DELETE FROM ORDERS_4 \n",
    "WHERE id IN \n",
    "('9455',\n",
    "'13467',\n",
    "'41764',\n",
    "'51641',\n",
    "'60314',\n",
    "'74451',\n",
    "'93735',\n",
    "'10701',\n",
    "'27322',\n",
    "'273229',\n",
    "'107017')\n"
   ]
  },
  {
   "attachments": {},
   "cell_type": "markdown",
   "metadata": {},
   "source": [
    "chtela jsem jeste pridat NAZOBCE a NAZOKRESU ale milion radku jsem dostala 13 milion"
   ]
  },
  {
   "cell_type": "code",
   "execution_count": null,
   "metadata": {
    "vscode": {
     "languageId": "sql"
    }
   },
   "outputs": [],
   "source": [
    "select \n",
    "-- DISTINCT o4.id\n",
    " o4.id\n",
    ",o4.order_number\n",
    ",o4.zip_code\n",
    ",zcc.psc\n",
    ",o4.city_from_order\n",
    ",o4.delivery_city_order\n",
    ",o4.city_t\n",
    ",zcc.nazobce\n",
    ",zcc.nazokresu\n",
    "from orders_4 o4\n",
    "LEFT JOIN zip_code_city zcc ON zcc.psc = o4.zip_code\n",
    "\n"
   ]
  }
 ],
 "metadata": {
  "language_info": {
   "name": "python"
  },
  "orig_nbformat": 4
 },
 "nbformat": 4,
 "nbformat_minor": 2
}
